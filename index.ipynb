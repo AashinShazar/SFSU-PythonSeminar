{
  "nbformat": 4,
  "nbformat_minor": 0,
  "metadata": {
    "colab": {
      "name": "Seminar1_Beta",
      "provenance": [],
      "collapsed_sections": []
    },
    "kernelspec": {
      "name": "python3",
      "display_name": "Python 3"
    }
  },
  "cells": [
    {
      "cell_type": "markdown",
      "metadata": {
        "id": "Qc_OdpOttJfm"
      },
      "source": [
        "# **Welcome to the Python Workshop! Here is your starter code**\n"
      ]
    },
    {
      "cell_type": "markdown",
      "metadata": {
        "id": "kzgmijj_Bj6t"
      },
      "source": [
        "### Try out hello world below! It's easy I promise."
      ]
    },
    {
      "cell_type": "code",
      "metadata": {
        "id": "HMIB2kqpBi8h"
      },
      "source": [
        "#print(\"Hello World\")"
      ],
      "execution_count": null,
      "outputs": []
    },
    {
      "cell_type": "markdown",
      "metadata": {
        "id": "7guET4nZtYxF"
      },
      "source": [
        "## What are we analyzing? \n",
        "\n",
        "We're going to be looking at the sales numbers over a 5 year period of batmobiles for Wayne Enterprises. We can see that data below here, press ctrl+enter in the code block to run it!"
      ]
    },
    {
      "cell_type": "code",
      "metadata": {
        "id": "lEhdy8i5g7vm",
        "outputId": "b867bf29-cf78-45b8-9c05-41277c3e672c",
        "colab": {
          "base_uri": "https://localhost:8080/",
          "height": 204
        }
      },
      "source": [
        "import pandas as pd\n",
        "\n",
        "sales = [455, 495, 516, 570, 575]\n",
        "years = [1,2,3,4,5]\n",
        "\n",
        "df = pd.DataFrame({'Total Sales($)':sales, 'Year':years})\n",
        "df"
      ],
      "execution_count": 185,
      "outputs": [
        {
          "output_type": "execute_result",
          "data": {
            "text/html": [
              "<div>\n",
              "<style scoped>\n",
              "    .dataframe tbody tr th:only-of-type {\n",
              "        vertical-align: middle;\n",
              "    }\n",
              "\n",
              "    .dataframe tbody tr th {\n",
              "        vertical-align: top;\n",
              "    }\n",
              "\n",
              "    .dataframe thead th {\n",
              "        text-align: right;\n",
              "    }\n",
              "</style>\n",
              "<table border=\"1\" class=\"dataframe\">\n",
              "  <thead>\n",
              "    <tr style=\"text-align: right;\">\n",
              "      <th></th>\n",
              "      <th>Total Sales($)</th>\n",
              "      <th>Year</th>\n",
              "    </tr>\n",
              "  </thead>\n",
              "  <tbody>\n",
              "    <tr>\n",
              "      <th>0</th>\n",
              "      <td>455</td>\n",
              "      <td>1</td>\n",
              "    </tr>\n",
              "    <tr>\n",
              "      <th>1</th>\n",
              "      <td>495</td>\n",
              "      <td>2</td>\n",
              "    </tr>\n",
              "    <tr>\n",
              "      <th>2</th>\n",
              "      <td>516</td>\n",
              "      <td>3</td>\n",
              "    </tr>\n",
              "    <tr>\n",
              "      <th>3</th>\n",
              "      <td>570</td>\n",
              "      <td>4</td>\n",
              "    </tr>\n",
              "    <tr>\n",
              "      <th>4</th>\n",
              "      <td>575</td>\n",
              "      <td>5</td>\n",
              "    </tr>\n",
              "  </tbody>\n",
              "</table>\n",
              "</div>"
            ],
            "text/plain": [
              "   Total Sales($)  Year\n",
              "0             455     1\n",
              "1             495     2\n",
              "2             516     3\n",
              "3             570     4\n",
              "4             575     5"
            ]
          },
          "metadata": {
            "tags": []
          },
          "execution_count": 185
        }
      ]
    },
    {
      "cell_type": "markdown",
      "metadata": {
        "id": "IyumHv8HuM5h"
      },
      "source": [
        "## Let's do some simple math! In the blocks below, try your hand at calculating the mean, variance and standard deviation.\n",
        "\n",
        "Feel free to comment out the code and see how easy it is to work in python."
      ]
    },
    {
      "cell_type": "code",
      "metadata": {
        "id": "EXPlrvF1uVEJ",
        "outputId": "c22d2de0-d35b-4133-cf7f-c38138280a8c",
        "colab": {
          "base_uri": "https://localhost:8080/",
          "height": 34
        }
      },
      "source": [
        "def calcMean(data):\n",
        "  totalSum = sum(sales)\n",
        "  numTotal = len(sales)\n",
        "  mean = totalSum/numTotal\n",
        "  return mean\n",
        "\n",
        "calcMean(sales)"
      ],
      "execution_count": 168,
      "outputs": [
        {
          "output_type": "execute_result",
          "data": {
            "text/plain": [
              "522.2"
            ]
          },
          "metadata": {
            "tags": []
          },
          "execution_count": 168
        }
      ]
    },
    {
      "cell_type": "code",
      "metadata": {
        "id": "l07EfR3QvIem",
        "outputId": "0cb04c4e-bcc7-4cac-ccb6-405a3ed8e372",
        "colab": {
          "base_uri": "https://localhost:8080/",
          "height": 34
        }
      },
      "source": [
        "def calcVariance(data):\n",
        "  var  = (sum(pow(x-mean,2) for x in sales)) / len(sales) \n",
        "  return var\n",
        "\n",
        "foundVar = calcVariance(sales)\n",
        "print(foundVar)"
      ],
      "execution_count": 169,
      "outputs": [
        {
          "output_type": "stream",
          "text": [
            "2073.36\n"
          ],
          "name": "stdout"
        }
      ]
    },
    {
      "cell_type": "code",
      "metadata": {
        "id": "y-YnTtQiyWm6",
        "outputId": "bbb65ad3-8839-4f40-ed89-89fe800f12a9",
        "colab": {
          "base_uri": "https://localhost:8080/",
          "height": 34
        }
      },
      "source": [
        "import math\n",
        "\n",
        "def calcStd(varianceData):\n",
        "  std  = math.sqrt(calcVariance(varianceData)) \n",
        "  return std\n",
        "\n",
        "print(calcStd(foundVar))"
      ],
      "execution_count": 170,
      "outputs": [
        {
          "output_type": "stream",
          "text": [
            "45.53416299878587\n"
          ],
          "name": "stdout"
        }
      ]
    },
    {
      "cell_type": "markdown",
      "metadata": {
        "id": "U32RYxSkuqi8"
      },
      "source": [
        "## We can make it easier than that! \n",
        "\n",
        "The above was the beauty of python, easy to work with and follow along. But we can make the calculations easier than that!\n",
        "\n",
        "Enter numpy!"
      ]
    },
    {
      "cell_type": "code",
      "metadata": {
        "id": "M_DKA2RyhKbi",
        "outputId": "a2c469f4-bd4c-4eb1-aa51-8997f5d8d2b5",
        "colab": {
          "base_uri": "https://localhost:8080/",
          "height": 34
        }
      },
      "source": [
        "import numpy as np\n",
        "\n",
        "np.mean(sales)"
      ],
      "execution_count": 171,
      "outputs": [
        {
          "output_type": "execute_result",
          "data": {
            "text/plain": [
              "522.2"
            ]
          },
          "metadata": {
            "tags": []
          },
          "execution_count": 171
        }
      ]
    },
    {
      "cell_type": "code",
      "metadata": {
        "id": "DD3D3-K74-1a",
        "outputId": "9c686e01-b8f8-4fa5-cc41-1091dcb7790c",
        "colab": {
          "base_uri": "https://localhost:8080/",
          "height": 34
        }
      },
      "source": [
        "np.var(sales)"
      ],
      "execution_count": 172,
      "outputs": [
        {
          "output_type": "execute_result",
          "data": {
            "text/plain": [
              "2073.36"
            ]
          },
          "metadata": {
            "tags": []
          },
          "execution_count": 172
        }
      ]
    },
    {
      "cell_type": "code",
      "metadata": {
        "id": "stZxA7flhUYJ",
        "outputId": "516bb103-2a43-453c-a416-cf32dedf37a2",
        "colab": {
          "base_uri": "https://localhost:8080/",
          "height": 34
        }
      },
      "source": [
        "np.std(sales)"
      ],
      "execution_count": 173,
      "outputs": [
        {
          "output_type": "execute_result",
          "data": {
            "text/plain": [
              "45.53416299878587"
            ]
          },
          "metadata": {
            "tags": []
          },
          "execution_count": 173
        }
      ]
    },
    {
      "cell_type": "markdown",
      "metadata": {
        "id": "GbxLupCyykZu"
      },
      "source": [
        "## What about linear regression?\n",
        "\n",
        "Here's the formula as a refresher\n",
        "\n",
        "![equation](https://i.imgur.com/B8s3CCI.png)\n",
        "\n",
        "And to find a and b we have to do the following:\n",
        "\n",
        " ![equation](https://www.statisticshowto.com/wp-content/uploads/2009/11/linearregressionequations.bmp)\n",
        "\n",
        "\n",
        " Little bit more dicey right? Yeah it sucks.\n",
        "\n",
        "\n",
        "\n"
      ]
    },
    {
      "cell_type": "markdown",
      "metadata": {
        "id": "bSElh9th5F6X"
      },
      "source": [
        "## Here's the quick and easy alternative..."
      ]
    },
    {
      "cell_type": "code",
      "metadata": {
        "id": "7gjv63e8hWZL",
        "outputId": "765cbaf4-d2e5-49de-9627-fa757026e31d",
        "colab": {
          "base_uri": "https://localhost:8080/",
          "height": 68
        }
      },
      "source": [
        "linregressModel = np.polyfit(years, sales, 1)\n",
        "print(\"slope: %f    intercept: %f\" % (linregressModel[0], linregressModel[1]))"
      ],
      "execution_count": 174,
      "outputs": [
        {
          "output_type": "stream",
          "text": [
            "slope: 31.500000    intercept: 427.700000\n",
            "RMSE: 9.426558226627588\n",
            "R-squared: 0.957142030327584\n"
          ],
          "name": "stdout"
        }
      ]
    },
    {
      "cell_type": "code",
      "metadata": {
        "id": "KL1zPBjY_T3v",
        "outputId": "ae6f336c-9379-4f0e-8e03-9728b34c4e34",
        "colab": {
          "base_uri": "https://localhost:8080/",
          "height": 51
        }
      },
      "source": [
        "modelPredictions = np.polyval(linregressModel, years)\n",
        "absError = modelPredictions - sales\n",
        "\n",
        "SE = np.square(absError) # squared errors\n",
        "MSE = np.mean(SE) # mean squared errors\n",
        "RMSE = np.sqrt(MSE) # Root Mean Squared Error, RMSE\n",
        "Rsquared = 1.0 - (np.var(absError) / np.var(sales)) \n",
        "\n",
        "print('RMSE:', RMSE)\n",
        "print('R-squared:', Rsquared)"
      ],
      "execution_count": 175,
      "outputs": [
        {
          "output_type": "stream",
          "text": [
            "RMSE: 9.426558226627588\n",
            "R-squared: 0.957142030327584\n"
          ],
          "name": "stdout"
        }
      ]
    },
    {
      "cell_type": "code",
      "metadata": {
        "id": "7Hv58CVk4DaG",
        "outputId": "59b679ac-ce25-47df-d667-ff254f430c64",
        "colab": {
          "base_uri": "https://localhost:8080/",
          "height": 265
        }
      },
      "source": [
        "import matplotlib.pyplot as plt\n",
        "\n",
        "y = np.array(years)\n",
        "x = np.array(sales)\n",
        "\n",
        "plt.plot(x, y, 'o', label='original data')\n",
        "plt.plot(x, intercept + slope*x, 'r', label='fitted line')\n",
        "plt.legend()\n",
        "plt.show()"
      ],
      "execution_count": 176,
      "outputs": [
        {
          "output_type": "display_data",
          "data": {
            "image/png": "[encoded data removed]",
            "text/plain": [
              "<Figure size 432x288 with 1 Axes>"
            ]
          },
          "metadata": {
            "tags": [],
            "needs_background": "light"
          }
        }
      ]
    },
    {
      "cell_type": "markdown",
      "metadata": {
        "id": "jJstQlmg5e6M"
      },
      "source": [
        "## What if we wanted to predict the sales in the future?\n",
        "\n",
        "Well that's easy! We can just use the linear regression model we have above to predict for year 6 for example. \n",
        "\n",
        "Feel free to change the yearToPredict!"
      ]
    },
    {
      "cell_type": "code",
      "metadata": {
        "id": "IEGYkFwi6fFd",
        "outputId": "400717f3-637d-42de-9dba-2fc93631f6c0",
        "colab": {
          "base_uri": "https://localhost:8080/",
          "height": 34
        }
      },
      "source": [
        "yearToPredict = 6\n",
        "\n",
        "predict = np.poly1d(linregressModel)\n",
        "predictedSale = predict(yearToPredict)\n",
        "\n",
        "y_new = np.array([yearToPredict])\n",
        "x_new = np.array([predictedSale])\n",
        "\n",
        "print(predictedSale)"
      ],
      "execution_count": 179,
      "outputs": [
        {
          "output_type": "stream",
          "text": [
            "742.6999999999998\n"
          ],
          "name": "stdout"
        }
      ]
    },
    {
      "cell_type": "code",
      "metadata": {
        "id": "1tNQQ30XixfQ",
        "outputId": "e9f145c8-4a29-4157-d8a3-45f167148b57",
        "colab": {
          "base_uri": "https://localhost:8080/",
          "height": 265
        }
      },
      "source": [
        "xFull = np.append(x, x_new)\n",
        "\n",
        "plt.plot(x_new, y_new, 'x', label='new data')\n",
        "plt.plot(x, y, 'o', label='original data')\n",
        "plt.plot(xFull, intercept + slope*xFull, 'g', label='fitted line')\n",
        "plt.legend()\n",
        "plt.show()"
      ],
      "execution_count": 180,
      "outputs": [
        {
          "output_type": "display_data",
          "data": {
            "image/png": "[encoded data removed]",
            "text/plain": [
              "<Figure size 432x288 with 1 Axes>"
            ]
          },
          "metadata": {
            "tags": [],
            "needs_background": "light"
          }
        }
      ]
    },
    {
      "cell_type": "markdown",
      "metadata": {
        "id": "k02fhqWM94Bu"
      },
      "source": [
        "## Report Building\n",
        "\n",
        "Now that you have all this work done, you might want to show it to someone or share it with other people. All you have to do is go to File in the top left corner and click Download as. You can choose what format you want and you're set!"
      ]
    }
  ]
}